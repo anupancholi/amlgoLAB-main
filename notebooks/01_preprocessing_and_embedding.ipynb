{
 "cells": [
  {
   "cell_type": "code",
   "execution_count": 7,
   "id": "b1b0b5df",
   "metadata": {},
   "outputs": [
    {
     "name": "stderr",
     "output_type": "stream",
     "text": [
      "[nltk_data] Downloading package punkt to /Users/anniii/nltk_data...\n",
      "[nltk_data]   Package punkt is already up-to-date!\n"
     ]
    },
    {
     "data": {
      "text/plain": [
       "True"
      ]
     },
     "execution_count": 7,
     "metadata": {},
     "output_type": "execute_result"
    }
   ],
   "source": [
    "# Cell 1: Imports and setup\n",
    "import os\n",
    "import re\n",
    "import nltk\n",
    "from tqdm import tqdm\n",
    "from sentence_transformers import SentenceTransformer\n",
    "import numpy as np\n",
    "import faiss\n",
    "\n",
    "nltk.download('punkt')"
   ]
  },
  {
   "cell_type": "code",
   "execution_count": 8,
   "id": "5cd5a31a",
   "metadata": {},
   "outputs": [
    {
     "name": "stdout",
     "output_type": "stream",
     "text": [
      "First 500 chars of raw text:\n",
      "User Agreement\n",
      "1. Introduction\n",
      "This User Agreement, the Mobile Application Terms of Use, and all policies and additional terms\n",
      "posted on and in our sites, applications, tools, and services (collectively \"Services\") set out the terms\n",
      "on which eBay offers you access to and use of our Services. You can find an overview of our policies\n",
      "here. The Mobile Application Terms of Use, all policies, and additional terms posted on and in our\n",
      "Services are incorporated into this User Agreement. You agree to co\n"
     ]
    }
   ],
   "source": [
    "# Cell 2: Load your provided document\n",
    "data_path = \"../data/AI Training Document.txt\"\n",
    "assert os.path.exists(data_path), \"Your document file does not exist.\"\n",
    "\n",
    "with open(data_path, 'r', encoding='utf-8') as f:\n",
    "    raw_text = f.read()\n",
    "\n",
    "print(\"First 500 chars of raw text:\")\n",
    "print(raw_text[:500])"
   ]
  },
  {
   "cell_type": "code",
   "execution_count": 9,
   "id": "6b857bbd",
   "metadata": {},
   "outputs": [
    {
     "name": "stdout",
     "output_type": "stream",
     "text": [
      "First 500 chars of cleaned text:\n",
      "User Agreement 1. Introduction This User Agreement, the Mobile Application Terms of Use, and all policies and additional terms posted on and in our sites, applications, tools, and services (collectively \"Services\") set out the terms on which eBay offers you access to and use of our Services. You can find an overview of our policies here. The Mobile Application Terms of Use, all policies, and additional terms posted on and in our Services are incorporated into this User Agreement. You agree to co\n"
     ]
    }
   ],
   "source": [
    "# Cell 3: Clean and normalize text\n",
    "def clean_text(text):\n",
    "    text = re.sub(r'\\n+', '\\n', text)\n",
    "    text = re.sub(r'\\s+', ' ', text)\n",
    "    text = re.sub(r'<.*?>', '', text)\n",
    "    text = re.sub(r'\\f', '', text)\n",
    "    text = re.sub(r'Page \\\\d+', '', text)\n",
    "    return text.strip()\n",
    "\n",
    "cleaned_text = clean_text(raw_text)\n",
    "print(\"First 500 chars of cleaned text:\")\n",
    "print(cleaned_text[:500])"
   ]
  },
  {
   "cell_type": "code",
   "execution_count": null,
   "id": "2bf2cc40",
   "metadata": {},
   "outputs": [
    {
     "name": "stdout",
     "output_type": "stream",
     "text": [
      "Total chunks: 61\n",
      "Chunk 0 (242 words):\n",
      "User Agreement 1. Introduction This User Agreement, the Mobile Application Terms of Use, and all policies and additional terms posted on and in our sites, applications, tools, and services (collective...\n",
      "\n",
      "Chunk 1 (249 words):\n",
      "Marketplaces GmbH, Helvetiastrasse 15/17, CH-3005, Bern, Switzerland, if you reside in any other country. In this User Agreement, these entities are individually and collectively referred to as \"eBay,...\n",
      "\n"
     ]
    }
   ],
   "source": [
    "# Cell 4: Chunk text with overlap\n",
    "def chunk_text(text, chunk_size=250, overlap=50):\n",
    "    sentences = nltk.sent_tokenize(text)\n",
    "    chunks = []\n",
    "    current_chunk = []\n",
    "    current_length = 0\n",
    "\n",
    "    for sentence in sentences:\n",
    "        sentence_length = len(sentence.split())\n",
    "        if current_length + sentence_length > chunk_size:\n",
    "            chunks.append(' '.join(current_chunk))\n",
    "            \n",
    "            overlap_words = ' '.join(current_chunk).split()[-overlap:]\n",
    "            current_chunk = [' '.join(overlap_words), sentence]\n",
    "            current_length = len(' '.join(current_chunk).split())\n",
    "        else:\n",
    "            current_chunk.append(sentence)\n",
    "            current_length += sentence_length\n",
    "\n",
    "    if current_chunk:\n",
    "        chunks.append(' '.join(current_chunk))\n",
    "    return chunks\n",
    "\n",
    "chunks = chunk_text(cleaned_text, chunk_size=250, overlap=50)\n",
    "print(f\"Total chunks: {len(chunks)}\")\n",
    "for i, ck in enumerate(chunks[:2]):\n",
    "    print(f\"Chunk {i} ({len(ck.split())} words):\\n{ck[:200]}...\\n\")\n"
   ]
  },
  {
   "cell_type": "code",
   "execution_count": 11,
   "id": "bec3e795",
   "metadata": {},
   "outputs": [
    {
     "data": {
      "image/png": "[encoded data removed]",
      "text/plain": [
       "<Figure size 640x480 with 1 Axes>"
      ]
     },
     "metadata": {},
     "output_type": "display_data"
    }
   ],
   "source": [
    "# Cell 5: Visualize chunk lengths\n",
    "\n",
    "chunk_lengths = [len(ck.split()) for ck in chunks]\n",
    "plt.hist(chunk_lengths, bins=20)\n",
    "plt.xlabel(\"Chunk length (words)\")\n",
    "plt.ylabel(\"Frequency\")\n",
    "plt.title(\"Distribution of chunk sizes\")\n",
    "plt.show()"
   ]
  },
  {
   "cell_type": "code",
   "execution_count": null,
   "id": "8f09a042",
   "metadata": {},
   "outputs": [
    {
     "name": "stderr",
     "output_type": "stream",
     "text": [
      "Batches: 100%|██████████| 2/2 [00:01<00:00,  1.58it/s]"
     ]
    },
    {
     "name": "stdout",
     "output_type": "stream",
     "text": [
      "Embeddings shape: (61, 384)\n"
     ]
    },
    {
     "name": "stderr",
     "output_type": "stream",
     "text": [
      "\n"
     ]
    }
   ],
   "source": [
    "# Cell 6: Generate embeddings using our chosen model\n",
    "model = SentenceTransformer('all-MiniLM-L6-v2')\n",
    "embeddings = model.encode(chunks, show_progress_bar=True, batch_size=32, normalize_embeddings=True)\n",
    "print(\"Embeddings shape:\", embeddings.shape)"
   ]
  },
  {
   "cell_type": "code",
   "execution_count": null,
   "id": "f815da6e",
   "metadata": {},
   "outputs": [
    {
     "name": "stdout",
     "output_type": "stream",
     "text": [
      "Saved 61 chunks and FAISS index to ../vectordb.\n"
     ]
    }
   ],
   "source": [
    "# Cell 7: Save chunks, and build/save FAISS vector DB for our pipeline\n",
    "\n",
    "chunks_dir = \"../chunks\"\n",
    "vectordb_dir = \"../vectordb\"\n",
    "if not os.path.exists(chunks_dir):\n",
    "    os.makedirs(chunks_dir)\n",
    "if not os.path.exists(vectordb_dir):\n",
    "    os.makedirs(vectordb_dir)\n",
    "\n",
    "# Save chunks as metadata\n",
    "np.save(os.path.join(vectordb_dir, \"chunk_metadata.npy\"), np.array(chunks))\n",
    "# Build and save FAISS index\n",
    "dim = embeddings.shape[1]\n",
    "index = faiss.IndexFlatIP(dim)\n",
    "index.add(embeddings)\n",
    "faiss.write_index(index, os.path.join(vectordb_dir, \"faiss.index\"))\n",
    "\n",
    "print(f\"Saved {len(chunks)} chunks and FAISS index to {vectordb_dir}.\")"
   ]
  },
  {
   "cell_type": "code",
   "execution_count": null,
   "id": "3ef3e299",
   "metadata": {},
   "outputs": [],
   "source": []
  }
 ],
 "metadata": {
  "kernelspec": {
   "display_name": ".venv",
   "language": "python",
   "name": "python3"
  },
  "language_info": {
   "codemirror_mode": {
    "name": "ipython",
    "version": 3
   },
   "file_extension": ".py",
   "mimetype": "text/x-python",
   "name": "python",
   "nbconvert_exporter": "python",
   "pygments_lexer": "ipython3",
   "version": "3.12.2"
  }
 },
 "nbformat": 4,
 "nbformat_minor": 5
}
